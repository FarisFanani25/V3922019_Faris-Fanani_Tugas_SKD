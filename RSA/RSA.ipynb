{
 "cells": [
  {
   "cell_type": "code",
   "execution_count": 9,
   "id": "9fb0cdae",
   "metadata": {},
   "outputs": [
    {
     "ename": "ModuleNotFoundError",
     "evalue": "No module named 'PyPDF2'",
     "output_type": "error",
     "traceback": [
      "\u001b[1;31m---------------------------------------------------------------------------\u001b[0m",
      "\u001b[1;31mModuleNotFoundError\u001b[0m                       Traceback (most recent call last)",
      "Input \u001b[1;32mIn [9]\u001b[0m, in \u001b[0;36m<cell line: 1>\u001b[1;34m()\u001b[0m\n\u001b[1;32m----> 1\u001b[0m \u001b[38;5;28;01mfrom\u001b[39;00m \u001b[38;5;21;01mPyPDF2\u001b[39;00m \u001b[38;5;28;01mimport\u001b[39;00m PdfWriter, PdfReader\n\u001b[0;32m      3\u001b[0m \u001b[38;5;66;03m# Buka file PdfReader\u001b[39;00m\n\u001b[0;32m      4\u001b[0m file_path \u001b[38;5;241m=\u001b[39m \u001b[38;5;124m\"\u001b[39m\u001b[38;5;124mD:\u001b[39m\u001b[38;5;124m\\\u001b[39m\u001b[38;5;124mPraktik interaksi manusia dan komputer\u001b[39m\u001b[38;5;124m\\\u001b[39m\u001b[38;5;124mMateri\u001b[39m\u001b[38;5;124m\\\u001b[39m\u001b[38;5;124mModul 1 interaksi manusia dan komputer.pdf\u001b[39m\u001b[38;5;124m\"\u001b[39m\n",
      "\u001b[1;31mModuleNotFoundError\u001b[0m: No module named 'PyPDF2'"
     ]
    }
   ],
   "source": [
    "from PyPDF2 import PdfWriter, PdfReader\n",
    "\n",
    "# Buka file PdfReader\n",
    "file_path = \"D:\\Praktik interaksi manusia dan komputer\\Materi\\Modul 1 interaksi manusia dan komputer.pdf\"\n",
    "file = PdfReader(file_path)\n",
    "\n",
    "# Masukkan password enkripsi\n",
    "password = \"angga\"\n",
    "\n",
    "# Buat objek PdfWriter untuk menyimpan file yang sudah dienkripsi\n",
    "out = PdfWriter()\n",
    "\n",
    "# Program membaca setiap halaman file sesuai halaman yang diidentifikasi\n",
    "for idx in range(len(file.pages)):\n",
    "    out.add_page(file.pages[idx])\n",
    "\n",
    "# Enkripsi seluruh file\n",
    "out.encrypt(password)\n",
    "\n",
    "# Buka file enkripsi \"TestSKDbaru.pdf\"\n",
    "output_path = \"D:\\Praktik interaksi manusia dan komputer\\Materi\\Modul 1 interaksi manusia dan komputer.pdf\"\n",
    "with open(output_path, \"wb\") as f:\n",
    "    # Simpan pdf\n",
    "    out.write(f)\n",
    "\n",
    "# Pastikan untuk menutup file yang sedang dienkripsi\n",
    "file.stream.close()"
   ]
  },
  {
   "cell_type": "code",
   "execution_count": null,
   "id": "a829eca7",
   "metadata": {},
   "outputs": [],
   "source": []
  },
  {
   "cell_type": "code",
   "execution_count": null,
   "id": "c8d3ca64",
   "metadata": {},
   "outputs": [],
   "source": []
  }
 ],
 "metadata": {
  "kernelspec": {
   "display_name": "Python 3 (ipykernel)",
   "language": "python",
   "name": "python3"
  },
  "language_info": {
   "codemirror_mode": {
    "name": "ipython",
    "version": 3
   },
   "file_extension": ".py",
   "mimetype": "text/x-python",
   "name": "python",
   "nbconvert_exporter": "python",
   "pygments_lexer": "ipython3",
   "version": "3.9.12"
  }
 },
 "nbformat": 4,
 "nbformat_minor": 5
}
