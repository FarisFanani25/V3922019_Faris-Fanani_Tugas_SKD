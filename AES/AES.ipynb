{
 "cells": [
  {
   "cell_type": "code",
   "execution_count": 7,
   "id": "5f84dcee",
   "metadata": {},
   "outputs": [
    {
     "name": "stdout",
     "output_type": "stream",
     "text": [
      "Cipher text: b'\\xd1\\x13H\\xdf0C\\xc8W\\xe0\\xa6\\xec\\x92\\xb2\\xda\\x94\\x1d)'\n",
      "Plain text: pendukung prabowo\n"
     ]
    }
   ],
   "source": [
    "from Crypto.Cipher import AES\n",
    "from Crypto.Protocol.KDF import PBKDF2\n",
    "from Crypto.Random import get_random_bytes\n",
    "\n",
    "# Generate a salt\n",
    "salt = get_random_bytes(16)\n",
    "\n",
    "# Generate a derived key from a passphrase\n",
    "passphrase = \"sawahan\"\n",
    "key = PBKDF2(passphrase, salt, dkLen=32, count=1000000)  # Ganti dkLen sesuai dengan panjang yang Anda inginkan\n",
    "\n",
    "# Create a new instance of the cipher\n",
    "cipher = AES.new(key, AES.MODE_EAX)\n",
    "\n",
    "# Data to be encrypted\n",
    "data = \"pendukung prabowo\".encode()\n",
    "\n",
    "# Nonce is a random value generated each time we instantiate the cipher using new()\n",
    "nonce = cipher.nonce\n",
    "\n",
    "# Encrypt the data\n",
    "ciphertext = cipher.encrypt(data)\n",
    "\n",
    "# Print the encrypted data\n",
    "print(\"Cipher text:\", ciphertext)\n",
    "\n",
    "# Generate a new instance with the key and nonce same as the encryption cipher\n",
    "cipher = AES.new(key, AES.MODE_EAX, nonce=nonce)\n",
    "\n",
    "# Decrypt the data\n",
    "plaintext = cipher.decrypt(ciphertext)\n",
    "print(\"Plain text:\", plaintext.decode())"
   ]
  },
  {
   "cell_type": "code",
   "execution_count": null,
   "id": "51d256f3",
   "metadata": {},
   "outputs": [],
   "source": []
  },
  {
   "cell_type": "code",
   "execution_count": null,
   "id": "e76d408a",
   "metadata": {},
   "outputs": [],
   "source": []
  }
 ],
 "metadata": {
  "kernelspec": {
   "display_name": "Python 3 (ipykernel)",
   "language": "python",
   "name": "python3"
  },
  "language_info": {
   "codemirror_mode": {
    "name": "ipython",
    "version": 3
   },
   "file_extension": ".py",
   "mimetype": "text/x-python",
   "name": "python",
   "nbconvert_exporter": "python",
   "pygments_lexer": "ipython3",
   "version": "3.9.12"
  }
 },
 "nbformat": 4,
 "nbformat_minor": 5
}
